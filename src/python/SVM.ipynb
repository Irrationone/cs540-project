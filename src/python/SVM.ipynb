{
 "cells": [
  {
   "cell_type": "markdown",
   "metadata": {},
   "source": [
    "## Data Loading\n",
    "Blah"
   ]
  },
  {
   "cell_type": "code",
   "execution_count": 1,
   "metadata": {
    "collapsed": true
   },
   "outputs": [],
   "source": [
    "import sys\n",
    "import numpy as np\n",
    "import pandas as pd\n",
    "from sklearn import preprocessing\n",
    "\n",
    "train = pd.DataFrame.from_csv('../../train.csv')\n",
    "test = pd.DataFrame.from_csv('../../test.csv')\n",
    "\n",
    "## Dimensions of train set\n",
    "ntrain,dtrain = train.shape\n",
    "\n",
    "## Dimensions of test set\n",
    "ntest, dtest = test.shape"
   ]
  },
  {
   "cell_type": "markdown",
   "metadata": {},
   "source": [
    "## Standardize data"
   ]
  },
  {
   "cell_type": "code",
   "execution_count": 2,
   "metadata": {
    "collapsed": false,
    "scrolled": true
   },
   "outputs": [
    {
     "name": "stderr",
     "output_type": "stream",
     "text": [
      "/usr/local/lib/python2.7/dist-packages/sklearn/preprocessing/data.py:167: UserWarning: Numerical issues were encountered when centering the data and might not be solved. Dataset may contain too large values. You may need to prescale your features.\n",
      "  warnings.warn(\"Numerical issues were encountered \"\n"
     ]
    }
   ],
   "source": [
    "X = train.drop(['TARGET'], axis=1)\n",
    "Xtest = test\n",
    "\n",
    "## Standardize sets together\n",
    "Xtotal = X.append(Xtest)\n",
    "Xtotal_scaled = preprocessing.scale(Xtotal)\n",
    "X_scaled,Xtest_scaled = np.split(Xtotal_scaled, [ntrain])\n",
    "\n",
    "targets = np.array(train.TARGET)"
   ]
  },
  {
   "cell_type": "markdown",
   "metadata": {},
   "source": [
    "## Make Validation Set"
   ]
  },
  {
   "cell_type": "code",
   "execution_count": 3,
   "metadata": {
    "collapsed": false
   },
   "outputs": [
    {
     "name": "stdout",
     "output_type": "stream",
     "text": [
      "(60816, 369)\n",
      "(15204, 369)\n"
     ]
    }
   ],
   "source": [
    "from sklearn import cross_validation\n",
    "\n",
    "sss = cross_validation.StratifiedShuffleSplit(targets, 1, test_size=0.2, random_state=0)\n",
    "(train_index,valid_index) = list(sss)[0]\n",
    "\n",
    "X_train = X_scaled[train_index,]\n",
    "X_valid = X_scaled[valid_index,]\n",
    "y_train = targets[train_index]\n",
    "y_valid = targets[valid_index]\n",
    "\n",
    "print(X_train.shape)\n",
    "print(X_valid.shape)"
   ]
  },
  {
   "cell_type": "markdown",
   "metadata": {},
   "source": [
    "## Run the thing (Linear)"
   ]
  },
  {
   "cell_type": "code",
   "execution_count": 7,
   "metadata": {
    "collapsed": false,
    "scrolled": true
   },
   "outputs": [
    {
     "name": "stdout",
     "output_type": "stream",
     "text": [
      "('Training accuracy:', 0.69721783741120757)\n",
      "('Validation accuracy:', 0.69258089976322024)\n",
      "('Training AUC:', 0.72561025957619218)\n",
      "('Validation AUC:', 0.70139324654475499)\n"
     ]
    }
   ],
   "source": [
    "from sklearn import svm\n",
    "from sklearn.metrics import roc_auc_score\n",
    "\n",
    "lin_clf = svm.LinearSVC(dual=False, class_weight=\"balanced\")\n",
    "lin_clf.fit(X_train, y_train)\n",
    "\n",
    "y_hat = lin_clf.predict(X_valid)\n",
    "y_hat2 = lin_clf.predict(X_train)\n",
    "print(\"Training accuracy:\",lin_clf.score(X_train, y_train))\n",
    "print(\"Validation accuracy:\",lin_clf.score(X_valid, y_valid))\n",
    "print(\"Training AUC:\",roc_auc_score(y_train, y_hat2))\n",
    "print(\"Validation AUC:\",roc_auc_score(y_valid, y_hat))"
   ]
  },
  {
   "cell_type": "markdown",
   "metadata": {},
   "source": [
    "## Run the thing (Polynomial kernel)\n",
    "This takes almost forever to run"
   ]
  },
  {
   "cell_type": "code",
   "execution_count": 8,
   "metadata": {
    "collapsed": false
   },
   "outputs": [
    {
     "name": "stdout",
     "output_type": "stream",
     "text": [
      "('Training accuracy:', 0.75419297553275455)\n",
      "('Validation accuracy:', 0.74026571954748754)\n",
      "('Training AUC:', 0.72398845806217216)\n",
      "('Validation AUC:', 0.66330910388191489)\n"
     ]
    }
   ],
   "source": [
    "from sklearn import svm\n",
    "from sklearn.metrics import roc_auc_score\n",
    "\n",
    "clfp = svm.SVC(kernel=\"poly\", degree=3, class_weight=\"balanced\")\n",
    "clfp.fit(X_train, y_train)\n",
    "\n",
    "y_hat = clfp.predict(X_valid)\n",
    "y_hat2 = clfp.predict(X_train)\n",
    "print(\"Training accuracy:\",clfp.score(X_train, y_train))\n",
    "print(\"Validation accuracy:\",clfp.score(X_valid, y_valid))\n",
    "print(\"Training AUC:\",roc_auc_score(y_train, y_hat2))\n",
    "print(\"Validation AUC:\",roc_auc_score(y_valid, y_hat))"
   ]
  },
  {
   "cell_type": "markdown",
   "metadata": {},
   "source": [
    "## Run the thing (RBF kernel)\n",
    "This also takes almost forever to run"
   ]
  },
  {
   "cell_type": "code",
   "execution_count": 10,
   "metadata": {
    "collapsed": false
   },
   "outputs": [
    {
     "name": "stdout",
     "output_type": "stream",
     "text": [
      "('Training accuracy:', 0.70057221783741119)\n",
      "('Validation accuracy:', 0.69060773480662985)\n",
      "('Training AUC:', 0.75684607177485153)\n",
      "('Validation AUC:', 0.68205056331881908)\n"
     ]
    }
   ],
   "source": [
    "from sklearn import svm\n",
    "from sklearn.metrics import roc_auc_score\n",
    "\n",
    "clfp = svm.SVC(kernel=\"rbf\", class_weight=\"balanced\")\n",
    "clfp.fit(X_train, y_train)\n",
    "\n",
    "y_hat = clfp.predict(X_valid)\n",
    "y_hat2 = clfp.predict(X_train)\n",
    "print(\"Training accuracy:\",clfp.score(X_train, y_train))\n",
    "print(\"Validation accuracy:\",clfp.score(X_valid, y_valid))\n",
    "print(\"Training AUC:\",roc_auc_score(y_train, y_hat2))\n",
    "print(\"Validation AUC:\",roc_auc_score(y_valid, y_hat))"
   ]
  }
 ],
 "metadata": {
  "kernelspec": {
   "display_name": "Python 2",
   "language": "python",
   "name": "python2"
  },
  "language_info": {
   "codemirror_mode": {
    "name": "ipython",
    "version": 2
   },
   "file_extension": ".py",
   "mimetype": "text/x-python",
   "name": "python",
   "nbconvert_exporter": "python",
   "pygments_lexer": "ipython2",
   "version": "2.7.6"
  }
 },
 "nbformat": 4,
 "nbformat_minor": 0
}
